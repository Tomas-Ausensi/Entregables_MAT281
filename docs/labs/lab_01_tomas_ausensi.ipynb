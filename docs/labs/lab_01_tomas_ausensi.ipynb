{
  "cells": [
    {
      "cell_type": "markdown",
      "metadata": {
        "id": "view-in-github",
        "colab_type": "text"
      },
      "source": [
        "<a href=\"https://colab.research.google.com/github/Tomas-Ausensi/Entregables_MAT281/blob/master/lab_01_tomas_ausensi.ipynb\" target=\"_parent\"><img src=\"https://colab.research.google.com/assets/colab-badge.svg\" alt=\"Open In Colab\"/></a>"
      ]
    },
    {
      "cell_type": "markdown",
      "id": "e2696553",
      "metadata": {
        "id": "e2696553"
      },
      "source": [
        "<a href=\"https://colab.research.google.com/github/fralfaro/MAT281_2023/blob/main/docs/labs/lab_01.ipynb\" target=\"_parent\"><img src=\"https://colab.research.google.com/assets/colab-badge.svg\" alt=\"Open In Colab\"/></a>\n",
        "\n",
        "\n",
        "# MAT281 - Laboratorio N°01\n"
      ]
    },
    {
      "cell_type": "markdown",
      "id": "a869ace0",
      "metadata": {
        "id": "a869ace0"
      },
      "source": [
        "## Problema 01\n",
        "\n",
        "En los siglos XVII y XVIII, James Gregory y Gottfried Leibniz descubrieron una serie infinita que sirve para calcular $\\pi$:\n",
        "\n",
        "$$\\displaystyle \\pi = 4 \\sum_{k=1}^{\\infty}\\dfrac{(-1)^{k+1}}{2k-1} = 4(1-\\dfrac{1}{3}+\\dfrac{1}{5}-\\dfrac{1}{7} + ...) $$\n",
        "\n",
        "Desarolle un programa para estimar el valor de $\\pi$ ocupando el método de Leibniz, donde la entrada del programa debe ser un número entero $n$ que indique cuántos términos de la suma se utilizará.\n",
        "\n",
        "\n",
        "* **Ejemplo**:\n",
        "    * *calcular_pi(3)* = 3.466666666666667\n",
        "    * *calcular_pi(1000)* = 3.140592653839794"
      ]
    },
    {
      "cell_type": "code",
      "execution_count": null,
      "id": "dd54e855",
      "metadata": {
        "colab": {
          "base_uri": "https://localhost:8080/"
        },
        "id": "dd54e855",
        "outputId": "4cdc426c-2d96-421d-ca61-a0ec685bbcc6"
      },
      "outputs": [
        {
          "output_type": "stream",
          "name": "stdout",
          "text": [
            "calcular_pi(3) = 3.466666666666667\n",
            "calcular_pi(1000) = 3.140592653839794\n"
          ]
        }
      ],
      "source": [
        "def calcular_pi(n):             #n: número natural que representa la cantidad de términos de la sumatoria\n",
        "    suma = 0\n",
        "    for i in range(1, n+1):     #i: índice de la sumatoria\n",
        "        suma += ((-1) ** (i + 1)) / (2 * i - 1)\n",
        "    return 4*suma\n",
        "\n",
        "\n",
        "print(\"calcular_pi(3) = {}\".format(calcular_pi(3)))\n",
        "print(\"calcular_pi(1000) = {}\".format(calcular_pi(1000)))"
      ]
    },
    {
      "cell_type": "markdown",
      "id": "c26be634",
      "metadata": {
        "id": "c26be634"
      },
      "source": [
        "## Problema 02\n",
        "\n",
        "Euler realizó varios aportes en relación a $e$, pero no fue hasta 1748 cuando publicó su **Introductio in analysin infinitorum** que dio un tratamiento definitivo a las ideas sobre $e$. Allí mostró que:\n",
        "\n",
        "\n",
        "En los siglos XVII y XVIII, James Gregory y Gottfried Leibniz descubrieron una serie infinita que sirve para calcular π:\n",
        "\n",
        "$$\\displaystyle e = \\sum_{k=0}^{\\infty}\\dfrac{1}{k!} = 1+\\dfrac{1}{2!}+\\dfrac{1}{3!}+\\dfrac{1}{4!} + ... $$\n",
        "\n",
        "Desarolle un programa para estimar el valor de $e$ ocupando el método de Euler, donde la entrada del programa debe ser un número entero $n$ que indique cuántos términos de la suma se utilizará.\n",
        "\n",
        "Para esto:\n",
        "\n",
        "* a) Defina la función `factorial`, donde la entrada sea un número natural  $n$ y la salida sea el factorial de dicho número.\n",
        "    * **Ejemplo**: *factorial(3)* =3, *factorial(5)* = 120\n",
        "    \n",
        "    \n",
        "* b) Ocupe la función `factorial` dentro de la función `calcular_e`.     \n",
        "    * **Ejemplo**: *calcular_e(3)* = 2.6666666666666665, *calcular_e(1000)* = 2.7182818284590455"
      ]
    },
    {
      "cell_type": "code",
      "execution_count": null,
      "id": "706d4c0a",
      "metadata": {
        "colab": {
          "base_uri": "https://localhost:8080/"
        },
        "id": "706d4c0a",
        "outputId": "1b4cb6ec-1768-49b0-a3de-5ad40e07207a"
      },
      "outputs": [
        {
          "output_type": "stream",
          "name": "stdout",
          "text": [
            "factorial(3) = 6\n",
            "factorial(5) = 120\n",
            "\n",
            "calcular_e(3) = 2.6666666666666665\n",
            "calcular_e(3) = 2.7182818284590455\n"
          ]
        }
      ],
      "source": [
        "import sys\n",
        "sys.setrecursionlimit(2000) #Para saltear RecursionError\n",
        "\n",
        "\n",
        "def factorial(n):       #n: número natural al cual se le calcula el factorial\n",
        "    if n == 0:\n",
        "        return 1\n",
        "    else:\n",
        "        return n*factorial(n-1)\n",
        "\n",
        "\n",
        "def calcular_e(n):      #n: número natural que representa la cantidad de términos de la sumatoria\n",
        "    suma = 0\n",
        "    for i in range(0,n+1):  #i: índice de la sumatoria\n",
        "        suma += 1/(factorial(i))\n",
        "    return suma\n",
        "\n",
        "\n",
        "print(\"factorial(3) = {}\".format(factorial(3)))\n",
        "print(\"factorial(5) = {}\\n\".format(factorial(5)))\n",
        "print(\"calcular_e(3) = {}\".format(calcular_e(3)))\n",
        "print(\"calcular_e(3) = {}\".format(calcular_e(1000)))"
      ]
    },
    {
      "cell_type": "markdown",
      "id": "9707be93",
      "metadata": {
        "id": "9707be93"
      },
      "source": [
        "## Problema 03\n",
        "\n",
        "Sea $\\sigma(n)$ definido como la suma de los divisores propios de $n$ (números menores que n que se dividen en $n$).\n",
        "\n",
        "Los [números amigos](https://en.wikipedia.org/wiki/Amicable_numbers) son  enteros positivos $n_1$ y $n_2$ tales que la suma de los divisores propios de uno es igual al otro número y viceversa, es decir, $\\sigma(n_1)=\\sigma(n_2)$ y $\\sigma(n_2)=\\sigma(n_1)$.\n",
        "\n",
        "\n",
        "Por ejemplo, los números 220 y 284 son números amigos.\n",
        "* los divisores propios de 220 son 1, 2, 4, 5, 10, 11, 20, 22, 44, 55 y 110; por lo tanto $\\sigma(220) = 284$.\n",
        "* los divisores propios de 284 son 1, 2, 4, 71 y 142; entonces $\\sigma(284) = 220$.\n",
        "\n",
        "\n",
        "Implemente una función llamada `amigos` cuyo input sean dos números naturales $n_1$ y $n_2$, cuyo output sea verifique si los números son amigos o no.\n",
        "\n",
        "Para esto:\n",
        "\n",
        "* a) Defina la función `divisores_propios`, donde la entrada sea un número natural $n$ y la salida sea una lista con los divisores propios de dicho número.\n",
        "    * **Ejemplo**: *divisores_propios(220)* = [1, 2, 4, 5, 10, 11, 20, 22, 44, 55 y 110], *divisores_propios(284)* = [1, 2, 4, 71 y 142]\n",
        "    \n",
        "    \n",
        "* b) Ocupe la función `divisores_propios` dentro de la función `amigos`.\n",
        "\n",
        "    * **Ejemplo**: *amigos(220,284)* = True, *amigos(6,5)* = False"
      ]
    },
    {
      "cell_type": "code",
      "execution_count": null,
      "id": "e695ea21",
      "metadata": {
        "colab": {
          "base_uri": "https://localhost:8080/"
        },
        "id": "e695ea21",
        "outputId": "278095b5-d3f7-46d4-9eed-fce8671e3f5e"
      },
      "outputs": [
        {
          "output_type": "stream",
          "name": "stdout",
          "text": [
            "divisores_propios(220) = [1, 2, 4, 5, 10, 11, 20, 22, 44, 55, 110]\n",
            "divisores_propios(284) = [1, 2, 4, 71, 142]\n",
            "amigos(220,284) = True\n",
            "amigos(6,5) = False\n"
          ]
        }
      ],
      "source": [
        "def divisores_propios(n): #n: número natural al cual se le calculan los divisores propios.\n",
        "    divisores = []      #Lista de divisores\n",
        "    for i in range(1, (n+1)//2 +1):\n",
        "        if n%i == 0:\n",
        "            divisores.append(i)     #si el resto de la división es 0, entonces i es divisor y se añade a la lista\n",
        "    return(divisores)\n",
        "\n",
        "\n",
        "def amigos(n,m):            #n y m son números naturales\n",
        "    suma_n = sum(divisores_propios(n))  #suma_n y suma_m son, respectivamente, las sumas de las listas de divisores\n",
        "    suma_m = sum(divisores_propios(m))  #de n y m.\n",
        "    if suma_n == m and suma_m == n:     #Condición para ser números amigos\n",
        "        return True\n",
        "    else:\n",
        "        return False\n",
        "\n",
        "\n",
        "print(\"divisores_propios(220) = {}\".format(divisores_propios(220)))\n",
        "print(\"divisores_propios(284) = {}\"\\n.format(divisores_propios(284)))\n",
        "print(\"amigos(220,284) = {}\".format(amigos(220,284)))\n",
        "print(\"amigos(6,5) = {}\".format(amigos(6,5)))"
      ]
    },
    {
      "cell_type": "markdown",
      "id": "cf93a039",
      "metadata": {
        "id": "cf93a039"
      },
      "source": [
        "## Problema 04\n",
        "\n",
        "La [conjetura de Collatz](https://en.wikipedia.org/wiki/Collatz_conjecture), conocida también como conjetura $3n+1$ o conjetura de Ulam (entre otros nombres), fue enunciada por el matemático Lothar Collatz en 1937, y a la fecha no se ha resuelto.\n",
        "\n",
        "Sea la siguiente operación, aplicable a cualquier número entero positivo:\n",
        "* Si el número es par, se divide entre 2.\n",
        "* Si el número es impar, se multiplica por 3 y se suma 1.\n",
        "\n",
        "La conjetura dice que siempre alcanzaremos el 1 (y por tanto el ciclo 4, 2, 1) para cualquier número con el que comencemos.\n",
        "\n",
        "Implemente una función llamada `collatz` cuyo input sea un número natural positivo $N$ y como output devulva la secuencia de números hasta llegar a 1.\n",
        "\n",
        "* **Ejemplo**: *collatz(9)* = [9, 28, 14, 7, 22, 11, 34, 17, 52, 26, 13, 40, 20, 10, 5, 16, 8, 4, 2, 1]"
      ]
    },
    {
      "cell_type": "code",
      "execution_count": null,
      "id": "10501a00",
      "metadata": {
        "colab": {
          "base_uri": "https://localhost:8080/"
        },
        "id": "10501a00",
        "outputId": "40f1c0a5-0888-4e1e-a0ea-8a865857e265"
      },
      "outputs": [
        {
          "output_type": "stream",
          "name": "stdout",
          "text": [
            "collatz(9) = [9, 28, 14, 7, 22, 11, 34, 17, 52, 26, 13, 40, 20, 10, 5, 16, 8, 4, 2, 1]\n"
          ]
        }
      ],
      "source": [
        "def collatz(n):     #n es un número natural\n",
        "    numbers_n = [n] #Se inicia la lista con n, pues es el primer término del ciclo\n",
        "    while n != 1:\n",
        "        if n%2 == 0:        #condición de paridad\n",
        "            n = int(n/2)    #para que los números se presenten sin decimal\n",
        "        else:               #Imparidad\n",
        "            n = n*3 + 1\n",
        "        numbers_n.append(n)\n",
        "    return numbers_n\n",
        "\n",
        "\n",
        "print(\"collatz(9) = {}\".format(collatz(9)))"
      ]
    },
    {
      "cell_type": "markdown",
      "id": "d15af4eb",
      "metadata": {
        "id": "d15af4eb"
      },
      "source": [
        "## Problema 05\n",
        "La [conjetura de Goldbach](https://en.wikipedia.org/wiki/Goldbach%27s_conjecture) es uno de los problemas abiertos más antiguos en matemáticas. Concretamente, G.H. Hardy, en 1921, en su famoso discurso pronunciado en la Sociedad Matemática de Copenhague, comentó que probablemente la conjetura de Goldbach no es solo uno de los problemas no resueltos más difíciles de la teoría de números, sino de todas las matemáticas. Su enunciado es el siguiente:\n",
        "\n",
        "> Todo número par mayor que 2 puede escribirse como suma de dos números primos - Christian Goldbach (1742)\n",
        "\n",
        "Implemente una función llamada `goldbach` cuyo input sea un número natural positivo $n$ y como output devuelva la suma de dos primos ($n_1$ y $n_2$) tal que: $n_1+n_2=n$.\n",
        "\n",
        "Para esto:\n",
        "\n",
        "* a) Defina la función `es_primo`, donde la entrada sea un número natural $n$ y la salida sea **True** si el número es primo y **False** en otro caso.\n",
        "    * **Ejemplo**: *es_primo(3)* = True, *es_primo(4)* = False\n",
        "    \n",
        "    \n",
        "* b)  Defina la función `lista_de_primos`, donde la entrada sea un número natural par $n$ mayor que dos y la salida sea una lista con todos los número primos entre 2 y $n$.\n",
        "    * **Ejemplo**: *lista_de_primos(4)* = [2,3], *lista_de_primos(6)* = [2,3,5], *lista_de_primos(8)* = [2,3,5,7]\n",
        "\n",
        "\n",
        "* c) Ocupe la función `lista_de_primos` dentro de la función `goldbash`.\n",
        " * **Ejemplo**: goldbash(4) = (2,2), goldbash(6) = (3,3) , goldbash(8) = (3,5)"
      ]
    },
    {
      "cell_type": "code",
      "execution_count": null,
      "id": "cccb4ae0",
      "metadata": {
        "colab": {
          "base_uri": "https://localhost:8080/"
        },
        "id": "cccb4ae0",
        "outputId": "e41855dc-14a1-4b80-8a0f-257bbe505c2b"
      },
      "outputs": [
        {
          "output_type": "stream",
          "name": "stdout",
          "text": [
            "es_primo(3) = True\n",
            "es_primo(4) = False\n",
            "\n",
            "lista_de_primos(4) = [2, 3]\n",
            "lista_de_primos(6) = [2, 3, 5]\n",
            "lista_de_primos(8) = [2, 3, 5, 7]\n",
            "\n",
            "goldbach(4) = (2, 2)\n",
            "goldbach(6) = (3, 3)\n",
            "goldbach(8) = (3, 5)\n"
          ]
        }
      ],
      "source": [
        "def es_primo(n):        #n es un número natural\n",
        "    if len(divisores_propios(n)) == 1:   #utilizando la función de divisores_propios: si la lista de divisores de n\n",
        "        return True                      #es de largo 1, quiere decir que solo el 1 lo divide (además de él mismo). Por\n",
        "    else:                                #ende, es un número primo.\n",
        "        return False\n",
        "\n",
        "\n",
        "def lista_de_primos(n):     #n es un número natural\n",
        "    lista_primos = []\n",
        "    for i in range (2, n+1):\n",
        "        if es_primo(i) == True:\n",
        "            lista_primos.append(i)\n",
        "    return lista_primos\n",
        "\n",
        "\n",
        "def goldbach(n):        #n es un número natural PAR\n",
        "    lista_primos = lista_de_primos(n)\n",
        "    for i in lista_primos:\n",
        "        for j in lista_primos:          #esta es una evaluación a fuerza bruta.\n",
        "            if i + j == n:\n",
        "                return (i,j)\n",
        "\n",
        "\n",
        "print(\"es_primo(3) = {}\".format(es_primo(3)))\n",
        "print(\"es_primo(4) = {}\\n\".format(es_primo(4)))\n",
        "\n",
        "print(\"lista_de_primos(4) = {}\".format(lista_de_primos(4)))\n",
        "print(\"lista_de_primos(6) = {}\".format(lista_de_primos(6)))\n",
        "print(\"lista_de_primos(8) = {}\\n\".format(lista_de_primos(8)))\n",
        "\n",
        "print(\"goldbach(4) = {}\".format(goldbach(4)))\n",
        "print(\"goldbach(6) = {}\".format(goldbach(6)))\n",
        "print(\"goldbach(8) = {}\".format(goldbach(8)))"
      ]
    }
  ],
  "metadata": {
    "kernelspec": {
      "display_name": "Python 3 (ipykernel)",
      "language": "python",
      "name": "python3"
    },
    "language_info": {
      "codemirror_mode": {
        "name": "ipython",
        "version": 3
      },
      "file_extension": ".py",
      "mimetype": "text/x-python",
      "name": "python",
      "nbconvert_exporter": "python",
      "pygments_lexer": "ipython3",
      "version": "3.8.10"
    },
    "colab": {
      "provenance": [],
      "include_colab_link": true
    }
  },
  "nbformat": 4,
  "nbformat_minor": 5
}
